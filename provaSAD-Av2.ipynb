{
 "cells": [
  {
   "cell_type": "markdown",
   "metadata": {},
   "source": [
    "DISCIPLINA: Sistemas de Apoio à Decisão \tPROFESSOR(A): Alex Salgado \n",
    " \n",
    "PERÍODO: 8o. \t\t\t\tTURNO: noite \t\tAVALIAÇÃO: \n",
    " \n",
    "ALUNO(A): Yuri Lima__________________________________\n",
    " \n",
    "GRAU: \t\t\t\t\t\t\tVISTO DO PROFESSOR:\n",
    " \n",
    "Preencha sua resposta no próprio arquivo do Jupyter e depois me envie no link abaixo:\n",
    "resposta: https://goo.gl/forms/aOml4FAMaTmB4u482\n"
   ]
  },
  {
   "cell_type": "markdown",
   "metadata": {},
   "source": [
    "## Questão 1 - valor (0,5)\n",
    "1.1 - Importar os modulos python para machine learn e carregar o arquivo cargas.xlsx usando o método read_excel do pandas"
   ]
  },
  {
   "cell_type": "code",
   "execution_count": 3,
   "metadata": {},
   "outputs": [
    {
     "name": "stdout",
     "output_type": "stream",
     "text": [
      "    carga      nome_carga  peso(gramas)    largura  altura\n",
      "0       1    carga fragil           384   6.100000     7.3\n",
      "1       1    carga fragil           360   5.714286     6.8\n",
      "2       1    carga fragil           352   5.100000     7.2\n",
      "3       2  carga especial           172  23.800000     4.7\n",
      "4       2  carga especial           168   4.285714     4.6\n",
      "5       2  carga especial           160  30.120000     4.3\n",
      "6       2  carga especial           160  21.100000     4.3\n",
      "7       2  carga especial           152  30.120000     4.0\n",
      "8       1    carga fragil           356   2.800000     7.8\n",
      "9       1    carga fragil           344   5.100000     7.0\n",
      "10      1    carga fragil           332  21.100000     7.3\n",
      "11      1    carga fragil           344   2.800000     7.6\n",
      "12      1    carga fragil           308   5.000000     7.1\n",
      "13      1    carga fragil           328  13.900000     7.7\n",
      "14      1    carga fragil           304  17.110000     7.3\n",
      "15      1    carga fragil           312   9.120000     7.1\n",
      "16      1    carga fragil           312  17.110000     7.5\n",
      "17      1    carga fragil           336  26.100000     7.6\n",
      "18      1    carga fragil           324  26.100000     7.1\n",
      "19      1    carga fragil           324   5.100000     7.2\n",
      "20      1    carga fragil           320  26.100000     7.5\n",
      "21      1    carga fragil           312   5.100000     7.4\n",
      "22      2  carga especial           161  31.120000     4.3\n",
      "23      2  carga especial           161  22.100000     4.3\n",
      "24      2  carga especial           153  31.120000     4.0\n",
      "25      1    carga fragil           280  13.900000     7.1\n",
      "26      1    carga fragil           340  17.110000     7.9\n",
      "27      3    carga normal           684   6.428571     9.4\n",
      "28      3    carga normal           712  25.800000     9.2\n",
      "29      3    carga normal           724  19.110000     9.2\n",
      "..    ...             ...           ...        ...     ...\n",
      "32      3    carga normal           320   5.000000     7.4\n",
      "33      3    carga normal           316   2.800000     7.5\n",
      "34      3    carga normal           420  31.120000     8.0\n",
      "35      3    carga normal           328  24.800000     7.0\n",
      "36      3    carga normal           380  26.100000     8.1\n",
      "37      3    carga normal           284  17.110000     7.8\n",
      "38      3    carga normal           300   2.800000     7.9\n",
      "39      3    carga normal           320   2.800000     7.6\n",
      "40      3    carga normal           308  13.900000     7.3\n",
      "41      3    carga normal           316  24.800000     7.8\n",
      "42      3    carga normal           288  30.120000     7.4\n",
      "43      3    carga normal           308   2.800000     7.5\n",
      "44      3    carga normal           360  17.110000     8.2\n",
      "45      3    carga normal           308  24.800000     7.2\n",
      "46      4   carga secreta           388  24.800000    10.3\n",
      "47      4   carga secreta           400  13.900000    10.5\n",
      "48      4   carga secreta           372  24.800000     9.2\n",
      "49      4   carga secreta           432  13.900000    10.2\n",
      "50      4   carga secreta           392  13.900000     9.7\n",
      "51      4   carga secreta           348  13.900000    10.1\n",
      "52      4   carga secreta           264  30.120000     8.7\n",
      "53      4   carga secreta           260   4.285714     8.2\n",
      "54      4   carga secreta           232   4.285714     7.5\n",
      "55      4   carga secreta           236  21.100000     8.0\n",
      "56      4   carga secreta           240   4.285714     8.4\n",
      "57      4   carga secreta           232   1.800000     8.5\n",
      "58      4   carga secreta           232  12.900000     7.7\n",
      "59      4   carga secreta           232  21.100000     8.1\n",
      "60      4   carga secreta           304  26.100000     8.5\n",
      "61      4   carga secreta           236   1.800000     8.1\n",
      "\n",
      "[62 rows x 5 columns]\n"
     ]
    }
   ],
   "source": [
    "%matplotlib notebook\n",
    "import numpy as np\n",
    "import matplotlib.pyplot as plt\n",
    "import pandas as pd\n",
    "from sklearn.model_selection import train_test_split\n",
    "carga = pd.read_excel('cargas.xlsx')\n",
    "print(carga)"
   ]
  },
  {
   "cell_type": "markdown",
   "metadata": {},
   "source": [
    "1.2 - Exibir os primeiros registros desta tabela"
   ]
  },
  {
   "cell_type": "code",
   "execution_count": 4,
   "metadata": {},
   "outputs": [
    {
     "data": {
      "text/html": [
       "<div>\n",
       "<table border=\"1\" class=\"dataframe\">\n",
       "  <thead>\n",
       "    <tr style=\"text-align: right;\">\n",
       "      <th></th>\n",
       "      <th>carga</th>\n",
       "      <th>nome_carga</th>\n",
       "      <th>peso(gramas)</th>\n",
       "      <th>largura</th>\n",
       "      <th>altura</th>\n",
       "    </tr>\n",
       "  </thead>\n",
       "  <tbody>\n",
       "    <tr>\n",
       "      <th>0</th>\n",
       "      <td>1</td>\n",
       "      <td>carga fragil</td>\n",
       "      <td>384</td>\n",
       "      <td>6.100000</td>\n",
       "      <td>7.3</td>\n",
       "    </tr>\n",
       "    <tr>\n",
       "      <th>1</th>\n",
       "      <td>1</td>\n",
       "      <td>carga fragil</td>\n",
       "      <td>360</td>\n",
       "      <td>5.714286</td>\n",
       "      <td>6.8</td>\n",
       "    </tr>\n",
       "    <tr>\n",
       "      <th>2</th>\n",
       "      <td>1</td>\n",
       "      <td>carga fragil</td>\n",
       "      <td>352</td>\n",
       "      <td>5.100000</td>\n",
       "      <td>7.2</td>\n",
       "    </tr>\n",
       "    <tr>\n",
       "      <th>3</th>\n",
       "      <td>2</td>\n",
       "      <td>carga especial</td>\n",
       "      <td>172</td>\n",
       "      <td>23.800000</td>\n",
       "      <td>4.7</td>\n",
       "    </tr>\n",
       "    <tr>\n",
       "      <th>4</th>\n",
       "      <td>2</td>\n",
       "      <td>carga especial</td>\n",
       "      <td>168</td>\n",
       "      <td>4.285714</td>\n",
       "      <td>4.6</td>\n",
       "    </tr>\n",
       "  </tbody>\n",
       "</table>\n",
       "</div>"
      ],
      "text/plain": [
       "   carga      nome_carga  peso(gramas)    largura  altura\n",
       "0      1    carga fragil           384   6.100000     7.3\n",
       "1      1    carga fragil           360   5.714286     6.8\n",
       "2      1    carga fragil           352   5.100000     7.2\n",
       "3      2  carga especial           172  23.800000     4.7\n",
       "4      2  carga especial           168   4.285714     4.6"
      ]
     },
     "execution_count": 4,
     "metadata": {},
     "output_type": "execute_result"
    }
   ],
   "source": [
    "carga.head()"
   ]
  },
  {
   "cell_type": "markdown",
   "metadata": {},
   "source": [
    "## Questão 2 - valor (0,5)\n",
    "Utilizando as terminologias de Machine Learning(observações e features):  \n",
    "2.1 - Quantas observações têm nessa base de dados?"
   ]
  },
  {
   "cell_type": "code",
   "execution_count": 7,
   "metadata": {},
   "outputs": [
    {
     "data": {
      "text/plain": [
       "carga           62\n",
       "nome_carga      62\n",
       "peso(gramas)    62\n",
       "largura         62\n",
       "altura          62\n",
       "dtype: int64"
      ]
     },
     "execution_count": 7,
     "metadata": {},
     "output_type": "execute_result"
    }
   ],
   "source": [
    "# Observações 62\n",
    "carga.count()\n"
   ]
  },
  {
   "cell_type": "markdown",
   "metadata": {},
   "source": [
    "2.2 - Quantas \"features\" têm nessa base de dados?"
   ]
  },
  {
   "cell_type": "code",
   "execution_count": null,
   "metadata": {
    "collapsed": true
   },
   "outputs": [],
   "source": [
    "# features 5\n",
    "carga.count()"
   ]
  },
  {
   "cell_type": "markdown",
   "metadata": {},
   "source": [
    "2.2 - Quantas \"features\" têm nessa base de dados"
   ]
  },
  {
   "cell_type": "code",
   "execution_count": null,
   "metadata": {
    "collapsed": true
   },
   "outputs": [],
   "source": [
    "# features 5\n",
    "carga.count()"
   ]
  },
  {
   "cell_type": "markdown",
   "metadata": {},
   "source": [
    "## Questão 3 - valor (1,0)\n",
    "3.1 - Usando o algoritmo de KNN (com 5 vizinhos, k=5), qual a previsão? Adivinhe qual é carga com peso 327g, largura 14 cm, altura 8 cm, ou seja, com as seguintes features (peso = 327, largura=14, altura=8).\n"
   ]
  },
  {
   "cell_type": "code",
   "execution_count": 10,
   "metadata": {},
   "outputs": [
    {
     "data": {
      "text/plain": [
       "array(['carga fragil'], dtype=object)"
      ]
     },
     "execution_count": 10,
     "metadata": {},
     "output_type": "execute_result"
    }
   ],
   "source": [
    "X = carga[['peso(gramas)','largura','altura']]\n",
    "y = carga[['nome_carga']]\n",
    "\n",
    "from sklearn.neighbors import KNeighborsClassifier\n",
    "\n",
    "knn = KNeighborsClassifier(n_neighbors=5)\n",
    "\n",
    "knn.fit(X,y.values.ravel())\n",
    "knn.predict([[327,14,8]])"
   ]
  },
  {
   "cell_type": "markdown",
   "metadata": {},
   "source": [
    "## Questão 4 - valor (2,0)\n",
    "Usando o método de avaliação de acurácia (Treinar e testar SEPARADAMENTE-Train/test split), qual dos 3 métodos abaixo é mais eficiente?  \n",
    "4.1 - Acurácia usando o algoritmo de KNN (com 1 vizinho, k=1)\n"
   ]
  },
  {
   "cell_type": "code",
   "execution_count": 13,
   "metadata": {},
   "outputs": [
    {
     "name": "stdout",
     "output_type": "stream",
     "text": [
      "0.68\n"
     ]
    }
   ],
   "source": [
    "from sklearn.cross_validation import train_test_split\n",
    "from sklearn import metrics\n",
    "\n",
    "X_train, X_test, y_train, y_test = train_test_split(X, y.values.ravel(), test_size=0.4, random_state=4)\n",
    "\n",
    "knn = KNeighborsClassifier(n_neighbors=1)\n",
    "knn.fit(X_train, y_train)\n",
    "y_pred = knn.predict(X_test)\n",
    "print(metrics.accuracy_score(y_test, y_pred))"
   ]
  },
  {
   "cell_type": "markdown",
   "metadata": {},
   "source": [
    "4.2 - Acurácia usando o algoritmo de KNN (com 5 vizinho, k=5)"
   ]
  },
  {
   "cell_type": "code",
   "execution_count": 14,
   "metadata": {},
   "outputs": [
    {
     "name": "stdout",
     "output_type": "stream",
     "text": [
      "0.48\n"
     ]
    }
   ],
   "source": [
    "knn = KNeighborsClassifier(n_neighbors=5)\n",
    "knn.fit(X_train, y_train)\n",
    "y_pred = knn.predict(X_test)\n",
    "print(metrics.accuracy_score(y_test, y_pred))"
   ]
  },
  {
   "cell_type": "markdown",
   "metadata": {},
   "source": [
    "4.3 - Acurácia usando o algoritmo de LogisticRegression"
   ]
  },
  {
   "cell_type": "code",
   "execution_count": 16,
   "metadata": {},
   "outputs": [
    {
     "name": "stdout",
     "output_type": "stream",
     "text": [
      "0.44\n"
     ]
    }
   ],
   "source": [
    "from sklearn.linear_model import LogisticRegression\n",
    "\n",
    "logreg = LogisticRegression()\n",
    "logreg.fit(X_train, y_train)\n",
    "y_pred = logreg.predict(X_test)\n",
    "print(metrics.accuracy_score(y_test, y_pred))"
   ]
  },
  {
   "cell_type": "code",
   "execution_count": null,
   "metadata": {
    "collapsed": true
   },
   "outputs": [],
   "source": []
  }
 ],
 "metadata": {
  "kernelspec": {
   "display_name": "Python 3",
   "language": "python",
   "name": "python3"
  },
  "language_info": {
   "codemirror_mode": {
    "name": "ipython",
    "version": 3
   },
   "file_extension": ".py",
   "mimetype": "text/x-python",
   "name": "python",
   "nbconvert_exporter": "python",
   "pygments_lexer": "ipython3",
   "version": "3.5.3"
  }
 },
 "nbformat": 4,
 "nbformat_minor": 2
}
